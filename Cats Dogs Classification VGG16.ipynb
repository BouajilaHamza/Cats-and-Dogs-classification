{
 "cells": [
  {
   "cell_type": "code",
   "execution_count": 1,
   "id": "8f5abc3c",
   "metadata": {
    "execution": {
     "iopub.execute_input": "2023-03-23T04:58:15.527459Z",
     "iopub.status.busy": "2023-03-23T04:58:15.526906Z",
     "iopub.status.idle": "2023-03-23T04:58:15.532222Z",
     "shell.execute_reply": "2023-03-23T04:58:15.531342Z"
    },
    "id": "12c9624b-e6f4-4829-8a40-2c06fff11d80",
    "outputId": "3d635613-8af1-417e-c16b-7bc33e1c3bf1",
    "papermill": {
     "duration": 0.02652,
     "end_time": "2023-03-23T04:58:15.543562",
     "exception": false,
     "start_time": "2023-03-23T04:58:15.517042",
     "status": "completed"
    },
    "tags": []
   },
   "outputs": [],
   "source": [
    "#from IPython.display import Image\n",
    "#Image('vgg16.png')"
   ]
  },
  {
   "cell_type": "markdown",
   "id": "14c4787a",
   "metadata": {
    "id": "07336940-de75-47b4-812c-defc626e59af",
    "papermill": {
     "duration": 0.007346,
     "end_time": "2023-03-23T04:58:15.558829",
     "exception": false,
     "start_time": "2023-03-23T04:58:15.551483",
     "status": "completed"
    },
    "tags": []
   },
   "source": [
    "https://fr.wikipedia.org/wiki/ImageNet"
   ]
  },
  {
   "cell_type": "code",
   "execution_count": 2,
   "id": "95f41b61",
   "metadata": {
    "execution": {
     "iopub.execute_input": "2023-03-23T04:58:15.575061Z",
     "iopub.status.busy": "2023-03-23T04:58:15.574747Z",
     "iopub.status.idle": "2023-03-23T04:58:22.762464Z",
     "shell.execute_reply": "2023-03-23T04:58:22.761343Z"
    },
    "id": "17abc7a4-e67d-42a4-8dfb-4ba8fb85ded5",
    "papermill": {
     "duration": 7.198951,
     "end_time": "2023-03-23T04:58:22.765081",
     "exception": false,
     "start_time": "2023-03-23T04:58:15.566130",
     "status": "completed"
    },
    "tags": []
   },
   "outputs": [],
   "source": [
    "import tensorflow\n",
    "from tensorflow.keras import layers\n",
    "from tensorflow.keras import Model\n",
    "from tensorflow.keras.models import Sequential\n",
    "from tensorflow.keras.applications.vgg16 import VGG16"
   ]
  },
  {
   "cell_type": "markdown",
   "id": "88202ff9",
   "metadata": {
    "id": "c82d303d-6bdd-4d0b-9c65-d89425b6e08d",
    "papermill": {
     "duration": 0.00456,
     "end_time": "2023-03-23T04:58:22.774821",
     "exception": false,
     "start_time": "2023-03-23T04:58:22.770261",
     "status": "completed"
    },
    "tags": []
   },
   "source": [
    "## **Preprocessing**"
   ]
  },
  {
   "cell_type": "code",
   "execution_count": 3,
   "id": "87f51343",
   "metadata": {
    "execution": {
     "iopub.execute_input": "2023-03-23T04:58:22.786521Z",
     "iopub.status.busy": "2023-03-23T04:58:22.785383Z",
     "iopub.status.idle": "2023-03-23T04:58:22.790531Z",
     "shell.execute_reply": "2023-03-23T04:58:22.789355Z"
    },
    "id": "b10a15cf-d6c8-4a00-82b9-6b798c444c03",
    "papermill": {
     "duration": 0.013613,
     "end_time": "2023-03-23T04:58:22.793105",
     "exception": false,
     "start_time": "2023-03-23T04:58:22.779492",
     "status": "completed"
    },
    "tags": []
   },
   "outputs": [],
   "source": [
    "from keras.preprocessing.image import ImageDataGenerator"
   ]
  },
  {
   "cell_type": "code",
   "execution_count": 4,
   "id": "5bb8f162",
   "metadata": {
    "execution": {
     "iopub.execute_input": "2023-03-23T04:58:22.803656Z",
     "iopub.status.busy": "2023-03-23T04:58:22.803382Z",
     "iopub.status.idle": "2023-03-23T04:58:22.807993Z",
     "shell.execute_reply": "2023-03-23T04:58:22.807033Z"
    },
    "id": "03caeb3c-e69a-4e8d-89ca-13ca6b9511b2",
    "papermill": {
     "duration": 0.012289,
     "end_time": "2023-03-23T04:58:22.810057",
     "exception": false,
     "start_time": "2023-03-23T04:58:22.797768",
     "status": "completed"
    },
    "tags": []
   },
   "outputs": [],
   "source": [
    "train_augmentation = ImageDataGenerator(\n",
    "        rescale=1./255,\n",
    "        rotation_range=0.2,\n",
    "        width_shift_range = 0.2,\n",
    "        height_shift_range = 0.2,\n",
    "        zoom_range=0.2,\n",
    "        horizontal_flip=True)"
   ]
  },
  {
   "cell_type": "code",
   "execution_count": 5,
   "id": "bb0b5a5a",
   "metadata": {
    "execution": {
     "iopub.execute_input": "2023-03-23T04:58:22.821057Z",
     "iopub.status.busy": "2023-03-23T04:58:22.820394Z",
     "iopub.status.idle": "2023-03-23T04:58:24.736564Z",
     "shell.execute_reply": "2023-03-23T04:58:24.735579Z"
    },
    "id": "b5503cec-e31d-4a25-ac01-3f6e7cb42821",
    "outputId": "06cf3963-1678-47e0-81e1-9f7dbefa9bb2",
    "papermill": {
     "duration": 1.923898,
     "end_time": "2023-03-23T04:58:24.738689",
     "exception": false,
     "start_time": "2023-03-23T04:58:22.814791",
     "status": "completed"
    },
    "tags": []
   },
   "outputs": [
    {
     "name": "stdout",
     "output_type": "stream",
     "text": [
      "Found 8000 images belonging to 2 classes.\n"
     ]
    }
   ],
   "source": [
    "train_generator = train_augmentation.flow_from_directory(\n",
    "        '/kaggle/input/tp3dataset/dataset/training_set',\n",
    "        target_size=(128, 128),\n",
    "        batch_size=128,\n",
    "        class_mode='binary')"
   ]
  },
  {
   "cell_type": "code",
   "execution_count": 6,
   "id": "6484b49a",
   "metadata": {
    "execution": {
     "iopub.execute_input": "2023-03-23T04:58:24.751275Z",
     "iopub.status.busy": "2023-03-23T04:58:24.750353Z",
     "iopub.status.idle": "2023-03-23T04:58:24.755349Z",
     "shell.execute_reply": "2023-03-23T04:58:24.754444Z"
    },
    "id": "825bb953-c71d-4939-99a6-e4913bbe6883",
    "papermill": {
     "duration": 0.013472,
     "end_time": "2023-03-23T04:58:24.757452",
     "exception": false,
     "start_time": "2023-03-23T04:58:24.743980",
     "status": "completed"
    },
    "tags": []
   },
   "outputs": [],
   "source": [
    "test_augmentation = ImageDataGenerator(rescale=1./255)"
   ]
  },
  {
   "cell_type": "code",
   "execution_count": 7,
   "id": "b298ae1c",
   "metadata": {
    "execution": {
     "iopub.execute_input": "2023-03-23T04:58:24.768779Z",
     "iopub.status.busy": "2023-03-23T04:58:24.767849Z",
     "iopub.status.idle": "2023-03-23T04:58:24.984564Z",
     "shell.execute_reply": "2023-03-23T04:58:24.983642Z"
    },
    "id": "053440b4-d8fb-4bed-b19e-4ab1a7e78601",
    "outputId": "afbcd401-ad87-4041-fb8d-99fdaf3ee9c4",
    "papermill": {
     "duration": 0.224521,
     "end_time": "2023-03-23T04:58:24.986745",
     "exception": false,
     "start_time": "2023-03-23T04:58:24.762224",
     "status": "completed"
    },
    "tags": []
   },
   "outputs": [
    {
     "name": "stdout",
     "output_type": "stream",
     "text": [
      "Found 2000 images belonging to 2 classes.\n"
     ]
    }
   ],
   "source": [
    "validation_generator = test_augmentation.flow_from_directory(\n",
    "        '/kaggle/input/tp3dataset/dataset/test_set',\n",
    "        target_size=(128, 128),\n",
    "        batch_size=128,\n",
    "        class_mode='binary')"
   ]
  },
  {
   "cell_type": "code",
   "execution_count": 8,
   "id": "371f0d17",
   "metadata": {
    "execution": {
     "iopub.execute_input": "2023-03-23T04:58:24.997873Z",
     "iopub.status.busy": "2023-03-23T04:58:24.997583Z",
     "iopub.status.idle": "2023-03-23T04:58:30.243118Z",
     "shell.execute_reply": "2023-03-23T04:58:30.242103Z"
    },
    "id": "f0ae0a27-df89-4f13-94d2-f6cadae3aa44",
    "outputId": "689ff2cc-af11-4caa-91b3-e77152625104",
    "papermill": {
     "duration": 5.253809,
     "end_time": "2023-03-23T04:58:30.245666",
     "exception": false,
     "start_time": "2023-03-23T04:58:24.991857",
     "status": "completed"
    },
    "tags": []
   },
   "outputs": [
    {
     "name": "stdout",
     "output_type": "stream",
     "text": [
      "Downloading data from https://storage.googleapis.com/tensorflow/keras-applications/vgg16/vgg16_weights_tf_dim_ordering_tf_kernels_notop.h5\n",
      "58889256/58889256 [==============================] - 2s 0us/step\n"
     ]
    }
   ],
   "source": [
    "conv_base = VGG16(input_shape=(128,128,3), include_top = False, weights = 'imagenet')"
   ]
  },
  {
   "cell_type": "code",
   "execution_count": 9,
   "id": "cef73aaa",
   "metadata": {
    "execution": {
     "iopub.execute_input": "2023-03-23T04:58:30.261303Z",
     "iopub.status.busy": "2023-03-23T04:58:30.260980Z",
     "iopub.status.idle": "2023-03-23T04:58:30.309730Z",
     "shell.execute_reply": "2023-03-23T04:58:30.308964Z"
    },
    "id": "96dda814-1a38-4e26-be1b-a573cdf99965",
    "outputId": "c2b13a4f-8bf3-43d9-c34c-87beed106ca5",
    "papermill": {
     "duration": 0.089992,
     "end_time": "2023-03-23T04:58:30.342941",
     "exception": false,
     "start_time": "2023-03-23T04:58:30.252949",
     "status": "completed"
    },
    "tags": []
   },
   "outputs": [
    {
     "name": "stdout",
     "output_type": "stream",
     "text": [
      "Model: \"vgg16\"\n",
      "_________________________________________________________________\n",
      " Layer (type)                Output Shape              Param #   \n",
      "=================================================================\n",
      " input_1 (InputLayer)        [(None, 128, 128, 3)]     0         \n",
      "                                                                 \n",
      " block1_conv1 (Conv2D)       (None, 128, 128, 64)      1792      \n",
      "                                                                 \n",
      " block1_conv2 (Conv2D)       (None, 128, 128, 64)      36928     \n",
      "                                                                 \n",
      " block1_pool (MaxPooling2D)  (None, 64, 64, 64)        0         \n",
      "                                                                 \n",
      " block2_conv1 (Conv2D)       (None, 64, 64, 128)       73856     \n",
      "                                                                 \n",
      " block2_conv2 (Conv2D)       (None, 64, 64, 128)       147584    \n",
      "                                                                 \n",
      " block2_pool (MaxPooling2D)  (None, 32, 32, 128)       0         \n",
      "                                                                 \n",
      " block3_conv1 (Conv2D)       (None, 32, 32, 256)       295168    \n",
      "                                                                 \n",
      " block3_conv2 (Conv2D)       (None, 32, 32, 256)       590080    \n",
      "                                                                 \n",
      " block3_conv3 (Conv2D)       (None, 32, 32, 256)       590080    \n",
      "                                                                 \n",
      " block3_pool (MaxPooling2D)  (None, 16, 16, 256)       0         \n",
      "                                                                 \n",
      " block4_conv1 (Conv2D)       (None, 16, 16, 512)       1180160   \n",
      "                                                                 \n",
      " block4_conv2 (Conv2D)       (None, 16, 16, 512)       2359808   \n",
      "                                                                 \n",
      " block4_conv3 (Conv2D)       (None, 16, 16, 512)       2359808   \n",
      "                                                                 \n",
      " block4_pool (MaxPooling2D)  (None, 8, 8, 512)         0         \n",
      "                                                                 \n",
      " block5_conv1 (Conv2D)       (None, 8, 8, 512)         2359808   \n",
      "                                                                 \n",
      " block5_conv2 (Conv2D)       (None, 8, 8, 512)         2359808   \n",
      "                                                                 \n",
      " block5_conv3 (Conv2D)       (None, 8, 8, 512)         2359808   \n",
      "                                                                 \n",
      " block5_pool (MaxPooling2D)  (None, 4, 4, 512)         0         \n",
      "                                                                 \n",
      "=================================================================\n",
      "Total params: 14,714,688\n",
      "Trainable params: 14,714,688\n",
      "Non-trainable params: 0\n",
      "_________________________________________________________________\n"
     ]
    }
   ],
   "source": [
    "conv_base.summary()"
   ]
  },
  {
   "cell_type": "code",
   "execution_count": 10,
   "id": "eb78ef19",
   "metadata": {
    "execution": {
     "iopub.execute_input": "2023-03-23T04:58:30.362831Z",
     "iopub.status.busy": "2023-03-23T04:58:30.362547Z",
     "iopub.status.idle": "2023-03-23T04:58:30.367575Z",
     "shell.execute_reply": "2023-03-23T04:58:30.366485Z"
    },
    "id": "b4738275-6fbf-4076-8488-a9c5299cb37f",
    "papermill": {
     "duration": 0.017513,
     "end_time": "2023-03-23T04:58:30.369933",
     "exception": false,
     "start_time": "2023-03-23T04:58:30.352420",
     "status": "completed"
    },
    "tags": []
   },
   "outputs": [],
   "source": [
    "for layer in conv_base.layers:\n",
    "    layer.trainable = False"
   ]
  },
  {
   "cell_type": "code",
   "execution_count": 11,
   "id": "f119edb4",
   "metadata": {
    "execution": {
     "iopub.execute_input": "2023-03-23T04:58:30.389843Z",
     "iopub.status.busy": "2023-03-23T04:58:30.389580Z",
     "iopub.status.idle": "2023-03-23T04:58:30.479530Z",
     "shell.execute_reply": "2023-03-23T04:58:30.478572Z"
    },
    "id": "3269c362-8276-4e86-ad5e-a6615887ec5d",
    "papermill": {
     "duration": 0.102714,
     "end_time": "2023-03-23T04:58:30.481680",
     "exception": false,
     "start_time": "2023-03-23T04:58:30.378966",
     "status": "completed"
    },
    "tags": []
   },
   "outputs": [],
   "source": [
    "model = Sequential()\n",
    "model.add(conv_base)\n",
    "model.add(layers.Flatten())\n",
    "model.add(layers.Dense(256,activation = 'relu'))\n",
    "model.add(layers.Dense(1, activation = 'sigmoid'))"
   ]
  },
  {
   "cell_type": "code",
   "execution_count": 12,
   "id": "ba4d99c5",
   "metadata": {
    "execution": {
     "iopub.execute_input": "2023-03-23T04:58:30.502526Z",
     "iopub.status.busy": "2023-03-23T04:58:30.502228Z",
     "iopub.status.idle": "2023-03-23T04:58:30.522708Z",
     "shell.execute_reply": "2023-03-23T04:58:30.521911Z"
    },
    "id": "c9ce7f63-45b5-468e-9aa8-02a851d7086e",
    "outputId": "720f74d7-3b14-491c-c99d-e218cb75fc3b",
    "papermill": {
     "duration": 0.042033,
     "end_time": "2023-03-23T04:58:30.533410",
     "exception": false,
     "start_time": "2023-03-23T04:58:30.491377",
     "status": "completed"
    },
    "tags": []
   },
   "outputs": [
    {
     "name": "stdout",
     "output_type": "stream",
     "text": [
      "Model: \"sequential\"\n",
      "_________________________________________________________________\n",
      " Layer (type)                Output Shape              Param #   \n",
      "=================================================================\n",
      " vgg16 (Functional)          (None, 4, 4, 512)         14714688  \n",
      "                                                                 \n",
      " flatten (Flatten)           (None, 8192)              0         \n",
      "                                                                 \n",
      " dense (Dense)               (None, 256)               2097408   \n",
      "                                                                 \n",
      " dense_1 (Dense)             (None, 1)                 257       \n",
      "                                                                 \n",
      "=================================================================\n",
      "Total params: 16,812,353\n",
      "Trainable params: 2,097,665\n",
      "Non-trainable params: 14,714,688\n",
      "_________________________________________________________________\n"
     ]
    }
   ],
   "source": [
    "model.summary()"
   ]
  },
  {
   "cell_type": "code",
   "execution_count": 13,
   "id": "2281ec3e",
   "metadata": {
    "execution": {
     "iopub.execute_input": "2023-03-23T04:58:30.555317Z",
     "iopub.status.busy": "2023-03-23T04:58:30.555025Z",
     "iopub.status.idle": "2023-03-23T04:58:30.570881Z",
     "shell.execute_reply": "2023-03-23T04:58:30.569975Z"
    },
    "id": "51d65a38-bded-4a30-931a-de0d3cd23fb8",
    "papermill": {
     "duration": 0.029349,
     "end_time": "2023-03-23T04:58:30.572961",
     "exception": false,
     "start_time": "2023-03-23T04:58:30.543612",
     "status": "completed"
    },
    "tags": []
   },
   "outputs": [],
   "source": [
    "model.compile(optimizer = 'adam', loss = 'binary_crossentropy', metrics = ['accuracy'])"
   ]
  },
  {
   "cell_type": "code",
   "execution_count": 14,
   "id": "3fea9f18",
   "metadata": {
    "execution": {
     "iopub.execute_input": "2023-03-23T04:58:30.594041Z",
     "iopub.status.busy": "2023-03-23T04:58:30.593760Z",
     "iopub.status.idle": "2023-03-23T05:00:25.824326Z",
     "shell.execute_reply": "2023-03-23T05:00:25.823223Z"
    },
    "id": "6089c28d-c9ea-4c80-9630-13c2fd614daa",
    "outputId": "1152fb15-66ea-45d6-ceda-6903bf4b00c5",
    "papermill": {
     "duration": 115.249171,
     "end_time": "2023-03-23T05:00:25.832194",
     "exception": false,
     "start_time": "2023-03-23T04:58:30.583023",
     "status": "completed"
    },
    "tags": []
   },
   "outputs": [
    {
     "name": "stdout",
     "output_type": "stream",
     "text": [
      "Epoch 1/5\n",
      "8/8 - 36s - loss: 1.5959 - accuracy: 0.4980 - val_loss: 0.6882 - val_accuracy: 0.5010 - 36s/epoch - 5s/step\n",
      "Epoch 2/5\n",
      "8/8 - 19s - loss: 0.6696 - accuracy: 0.5859 - val_loss: 0.5801 - val_accuracy: 0.7100 - 19s/epoch - 2s/step\n",
      "Epoch 3/5\n",
      "8/8 - 16s - loss: 0.5652 - accuracy: 0.7295 - val_loss: 0.4765 - val_accuracy: 0.8295 - 16s/epoch - 2s/step\n",
      "Epoch 4/5\n",
      "8/8 - 18s - loss: 0.4932 - accuracy: 0.7900 - val_loss: 0.4220 - val_accuracy: 0.8200 - 18s/epoch - 2s/step\n",
      "Epoch 5/5\n",
      "8/8 - 17s - loss: 0.4592 - accuracy: 0.8000 - val_loss: 0.3915 - val_accuracy: 0.8505 - 17s/epoch - 2s/step\n"
     ]
    }
   ],
   "source": [
    "history = model.fit(train_generator , steps_per_epoch = 8, epochs = 5, verbose = 2,\n",
    "                    validation_data = validation_generator)"
   ]
  },
  {
   "cell_type": "code",
   "execution_count": 15,
   "id": "0d51554f",
   "metadata": {
    "execution": {
     "iopub.execute_input": "2023-03-23T05:00:25.854631Z",
     "iopub.status.busy": "2023-03-23T05:00:25.854334Z",
     "iopub.status.idle": "2023-03-23T05:00:25.858951Z",
     "shell.execute_reply": "2023-03-23T05:00:25.857915Z"
    },
    "id": "7f89a573-8cd1-46f4-bad9-0e1268d7dee4",
    "papermill": {
     "duration": 0.018405,
     "end_time": "2023-03-23T05:00:25.861109",
     "exception": false,
     "start_time": "2023-03-23T05:00:25.842704",
     "status": "completed"
    },
    "tags": []
   },
   "outputs": [],
   "source": [
    "import matplotlib.pyplot as plt"
   ]
  },
  {
   "cell_type": "code",
   "execution_count": 16,
   "id": "d684d0cf",
   "metadata": {
    "execution": {
     "iopub.execute_input": "2023-03-23T05:00:25.883133Z",
     "iopub.status.busy": "2023-03-23T05:00:25.882852Z",
     "iopub.status.idle": "2023-03-23T05:00:25.887434Z",
     "shell.execute_reply": "2023-03-23T05:00:25.886387Z"
    },
    "id": "ced3699d-9f40-4f74-83e9-c2bf7acedeb8",
    "papermill": {
     "duration": 0.018174,
     "end_time": "2023-03-23T05:00:25.889607",
     "exception": false,
     "start_time": "2023-03-23T05:00:25.871433",
     "status": "completed"
    },
    "tags": []
   },
   "outputs": [],
   "source": [
    "training_loss = history.history['loss']\n",
    "test_loss = history.history['val_loss']"
   ]
  },
  {
   "cell_type": "code",
   "execution_count": 17,
   "id": "be960712",
   "metadata": {
    "execution": {
     "iopub.execute_input": "2023-03-23T05:00:25.912112Z",
     "iopub.status.busy": "2023-03-23T05:00:25.911830Z",
     "iopub.status.idle": "2023-03-23T05:00:25.916030Z",
     "shell.execute_reply": "2023-03-23T05:00:25.915042Z"
    },
    "id": "bb63612e-2add-4359-b982-a7ebc6fbefcf",
    "papermill": {
     "duration": 0.017761,
     "end_time": "2023-03-23T05:00:25.918107",
     "exception": false,
     "start_time": "2023-03-23T05:00:25.900346",
     "status": "completed"
    },
    "tags": []
   },
   "outputs": [],
   "source": [
    "epoch_count = range(1, len(training_loss)+1)"
   ]
  },
  {
   "cell_type": "code",
   "execution_count": 18,
   "id": "8626459b",
   "metadata": {
    "execution": {
     "iopub.execute_input": "2023-03-23T05:00:25.940063Z",
     "iopub.status.busy": "2023-03-23T05:00:25.939792Z",
     "iopub.status.idle": "2023-03-23T05:00:26.196065Z",
     "shell.execute_reply": "2023-03-23T05:00:26.195095Z"
    },
    "id": "466a5f59-6b07-4ae5-b7f9-7d2cf4dbbff6",
    "outputId": "1992d181-1a00-467a-fae7-80cf5b45f058",
    "papermill": {
     "duration": 0.269653,
     "end_time": "2023-03-23T05:00:26.198073",
     "exception": false,
     "start_time": "2023-03-23T05:00:25.928420",
     "status": "completed"
    },
    "tags": []
   },
   "outputs": [
    {
     "data": {
      "text/plain": [
       "<matplotlib.legend.Legend at 0x7f7700097710>"
      ]
     },
     "execution_count": 18,
     "metadata": {},
     "output_type": "execute_result"
    },
    {
     "data": {
      "image/png": "[encoded data removed]",
      "text/plain": [
       "<Figure size 640x480 with 1 Axes>"
      ]
     },
     "metadata": {},
     "output_type": "display_data"
    }
   ],
   "source": [
    "plt.plot(epoch_count, training_loss)\n",
    "plt.plot(epoch_count, test_loss)\n",
    "plt.title('Loss history')\n",
    "plt.xlabel('Epoch')\n",
    "plt.ylabel('Loss')\n",
    "plt.legend(['Train', 'Test'])"
   ]
  },
  {
   "cell_type": "code",
   "execution_count": 19,
   "id": "c1b07619",
   "metadata": {
    "execution": {
     "iopub.execute_input": "2023-03-23T05:00:26.221960Z",
     "iopub.status.busy": "2023-03-23T05:00:26.221069Z",
     "iopub.status.idle": "2023-03-23T05:00:26.225924Z",
     "shell.execute_reply": "2023-03-23T05:00:26.224960Z"
    },
    "id": "a0bf8f26-8de2-49b4-b8fc-a293b81ce32e",
    "papermill": {
     "duration": 0.018879,
     "end_time": "2023-03-23T05:00:26.228036",
     "exception": false,
     "start_time": "2023-03-23T05:00:26.209157",
     "status": "completed"
    },
    "tags": []
   },
   "outputs": [],
   "source": [
    "training_acc = history.history['accuracy']\n",
    "test_acc = history.history['val_accuracy']"
   ]
  },
  {
   "cell_type": "code",
   "execution_count": 20,
   "id": "0324f986",
   "metadata": {
    "execution": {
     "iopub.execute_input": "2023-03-23T05:00:26.250889Z",
     "iopub.status.busy": "2023-03-23T05:00:26.250622Z",
     "iopub.status.idle": "2023-03-23T05:00:26.505058Z",
     "shell.execute_reply": "2023-03-23T05:00:26.504110Z"
    },
    "id": "7454da19-f663-47bf-b0a4-ba1e20eaf79e",
    "outputId": "42b98e4e-6a6c-4e48-8718-f5c5275da304",
    "papermill": {
     "duration": 0.268291,
     "end_time": "2023-03-23T05:00:26.507135",
     "exception": false,
     "start_time": "2023-03-23T05:00:26.238844",
     "status": "completed"
    },
    "tags": []
   },
   "outputs": [
    {
     "data": {
      "text/plain": [
       "<matplotlib.legend.Legend at 0x7f76e46311d0>"
      ]
     },
     "execution_count": 20,
     "metadata": {},
     "output_type": "execute_result"
    },
    {
     "data": {
      "image/png": "[encoded data removed]",
      "text/plain": [
       "<Figure size 640x480 with 1 Axes>"
      ]
     },
     "metadata": {},
     "output_type": "display_data"
    }
   ],
   "source": [
    "plt.plot(epoch_count, training_acc)\n",
    "plt.plot(epoch_count, test_acc)\n",
    "plt.title('Accuracy history')\n",
    "plt.xlabel('Epoch')\n",
    "plt.ylabel('Accuracy')\n",
    "plt.legend(['Train', 'Test'])"
   ]
  },
  {
   "cell_type": "code",
   "execution_count": null,
   "id": "18ec1682",
   "metadata": {
    "id": "ca91dfa3-945b-4493-bed8-7e184941b686",
    "papermill": {
     "duration": 0.011279,
     "end_time": "2023-03-23T05:00:26.530870",
     "exception": false,
     "start_time": "2023-03-23T05:00:26.519591",
     "status": "completed"
    },
    "tags": []
   },
   "outputs": [],
   "source": []
  }
 ],
 "metadata": {
  "kernelspec": {
   "display_name": "Python 3",
   "language": "python",
   "name": "python3"
  },
  "language_info": {
   "codemirror_mode": {
    "name": "ipython",
    "version": 3
   },
   "file_extension": ".py",
   "mimetype": "text/x-python",
   "name": "python",
   "nbconvert_exporter": "python",
   "pygments_lexer": "ipython3",
   "version": "3.7.12"
  },
  "papermill": {
   "default_parameters": {},
   "duration": 143.879519,
   "end_time": "2023-03-23T05:00:29.901666",
   "environment_variables": {},
   "exception": null,
   "input_path": "__notebook__.ipynb",
   "output_path": "__notebook__.ipynb",
   "parameters": {},
   "start_time": "2023-03-23T04:58:06.022147",
   "version": "2.4.0"
  }
 },
 "nbformat": 4,
 "nbformat_minor": 5
}
